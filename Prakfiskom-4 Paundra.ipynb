{
 "cells": [
  {
   "cell_type": "markdown",
   "metadata": {},
   "source": [
    "# Numerical Analysis With Python - Part 0"
   ]
  },
  {
   "cell_type": "markdown",
   "metadata": {},
   "source": [
    "## Aljabar Linear - Vektor dan Matrix"
   ]
  },
  {
   "cell_type": "markdown",
   "metadata": {},
   "source": [
    "### Vektor"
   ]
  },
  {
   "cell_type": "markdown",
   "metadata": {},
   "source": [
    "Vektor baris\n",
    "$$\\displaystyle \\overrightarrow{V_1} = \\left[\n",
    "\\begin{array}{ccc}\n",
    "1 & -5 & 3 & 2 & 4\n",
    "\\end{array}\n",
    "\\right]$$\n",
    "\n",
    "Vektor Kolom\n",
    "$$\\displaystyle \\overrightarrow{V_2} = \\left[\n",
    "\\begin{array}{ccc}\n",
    "1 \\\\\n",
    "2 \\\\\n",
    "3 \\\\\n",
    "4 \\\\\n",
    "5\n",
    "\\end{array}\n",
    "\\right]$$\n",
    "\n"
   ]
  },
  {
   "cell_type": "code",
   "execution_count": null,
   "metadata": {},
   "outputs": [
    {
     "ename": "",
     "evalue": "",
     "output_type": "error",
     "traceback": [
      "\u001b[1;31mRunning cells with 'c:\\Program Files\\Python311\\python.exe' requires the ipykernel package.\n",
      "\u001b[1;31mRun the following command to install 'ipykernel' into the Python environment. \n",
      "\u001b[1;31mCommand: '\"c:/Program Files/Python311/python.exe\" -m pip install ipykernel -U --user --force-reinstall'"
     ]
    }
   ],
   "source": [
    "import numpy as np\n",
    "vector_row = np.array([\n",
    "        [1, -5, 3, 2, 4]\n",
    "        ])\n",
    "vector_column = np.array([\n",
    "        [1],\n",
    "        [2],\n",
    "        [3],\n",
    "        [4],\n",
    "        [5]\n",
    "        ])\n",
    "print(vector_row.shape)\n",
    "print(vector_column.shape)\n"
   ]
  },
  {
   "cell_type": "markdown",
   "metadata": {},
   "source": [
    "**Norma vektor** adalah besaran yang mengukur panjang suatu vektor. Norma vektor dapat didefinisikan dengan beberapa cara, tergantung pada metrik yang digunakan (rumus jarak yang dipilih). Yang paling umum adalah norma L2, yang dihitung menggunakan rumus jarak yang mungkin Anda kenal dari sekolah dasar. Norma L2 dari suatu vektor $v$ dilambangkan dengan $\\Vert v \\Vert_{2}$ dan $\\Vert v \\Vert_{2} = \\sqrt{\\sum_i v_i^2}$. Ini kadang-kadang juga disebut panjang Euclidean dan mengacu pada panjang \"fisik\" suatu vektor dalam ruang satu, dua, atau tiga dimensi.\n",
    "\n",
    "**Norma L1**, atau \"Manhattan Distance\", dihitung sebagai $\\Vert v \\Vert_{1} = \\sum_i |v_i|$, dan dinamai sesuai dengan struktur jalan seperti grid di New York City. Secara umum, norma p, $L_p$, suatu vektor adalah $\\Vert v \\Vert_{p} = \\sqrt[p]{(\\sum_i v_i^p)}$. Norma $L_\\infty$ adalah norma p, di mana $p = \\infty$. Norma $L_\\infty$ ditulis sebagai $||v||_\\infty$ dan sama dengan nilai absolut maksimum dalam $v$.\n",
    "\n",
    "Norma vektor dapat digunakan untuk berbagai tujuan, seperti:\n",
    "\n",
    "* Mengukur panjang vektor\n",
    "* Menormalisasi vektor\n",
    "* Menghitung jarak antara dua vektor\n",
    "* Menilai kesalahan numerik\n",
    "\n",
    "Berikut adalah beberapa contoh penggunaan norma vektor:\n",
    "\n",
    "* **Mengukur panjang vektor:** Norma L2 dapat digunakan untuk mengukur panjang vektor. Misalnya, jika vektor $v = [1, 2, 3]$, maka norma L2 dari vektor tersebut adalah $\\Vert v \\Vert_{2} = \\sqrt{1^2 + 2^2 + 3^2} = 3.74$. Ini berarti bahwa panjang vektor v adalah 3.74.\n",
    "* **Menormalisasi vektor:** Norma L2 dapat digunakan untuk menormalisasi vektor. Normalisasi vektor adalah proses mengubah vektor sehingga panjangnya menjadi 1. Misalnya, jika vektor $v = [1, 2, 3]$, maka norma L2 dari vektor tersebut adalah $\\Vert v \\Vert_{2} = 3.74$. Untuk menormalisasi vektor tersebut, kita dapat membagi setiap elemen vektor dengan norma L2-nya. Hasilnya adalah vektor $v_norm = [1/3.74, 2/3.74, 3/3.74]$, yang memiliki panjang 1.\n",
    "* **Menghitung jarak antara dua vektor:** Norma L2 dapat digunakan untuk menghitung jarak antara dua vektor. Jarak antara dua vektor adalah panjang vektor yang menghubungkan dua vektor tersebut. Misalnya, jika vektor $v1 = [1, 2, 3]$ dan vektor $v2 = [4, 5, 6]$, maka jarak antara dua vektor tersebut adalah $||v1 - v2||_{2} = \\sqrt{3^2 + 3^2 + 3^2} = 3.74$.\n",
    "* **Menilai kesalahan numerik:** Norma L2 dapat digunakan untuk menilai kesalahan numerik. Kesalahan numerik adalah perbedaan antara hasil perhitungan numerik dan hasil perhitungan analitik. Misalnya, jika kita menghitung nilai dari fungsi $f(x) = x^2$ pada titik $x = 1$ dengan menggunakan perhitungan numerik, maka hasil perhitungan tersebut mungkin berbeda dari hasil perhitungan analitik. Kita dapat menggunakan norma L2 untuk menilai seberapa besar kesalahan numerik tersebut.\n",
    "\n",
    "Norma vektor adalah konsep yang penting dalam matematika dan fisika, dan memiliki banyak aplikasi dalam berbagai bidang, seperti ilmu komputer, teknik, dan keuangan."
   ]
  },
  {
   "cell_type": "code",
   "execution_count": 83,
   "metadata": {},
   "outputs": [
    {
     "name": "stdout",
     "output_type": "stream",
     "text": [
      "[[ 1]\n",
      " [-5]\n",
      " [ 3]\n",
      " [ 2]\n",
      " [ 4]]\n",
      "L_1 is:  15.0\n",
      "L_2 is:  7.4\n",
      "L_inf is:  5.0\n"
     ]
    }
   ],
   "source": [
    "from numpy.linalg import norm\n",
    "new_vector = vector_row.T\n",
    "print(new_vector)\n",
    "norm_1 = norm(new_vector, 1)\n",
    "norm_2 = norm(new_vector, 2)\n",
    "norm_inf = norm(new_vector, np.inf)\n",
    "print(\"L_1 is: \",norm_1)\n",
    "print(\"L_2 is: \",round(norm_2,1))\n",
    "print(\"L_inf is: \",norm_inf)"
   ]
  },
  {
   "cell_type": "markdown",
   "metadata": {},
   "source": [
    "### Operasi Vektor\n",
    "Penambahan vektor dan perkalian skalar dengan vektor adalah operasi dasar dalam matematika vektor. Penambahan vektor dapat digunakan untuk menggabungkan dua vektor menjadi satu vektor baru, sedangkan perkalian skalar dengan vektor dapat digunakan untuk mengubah panjang dan arah vektor.\n",
    "\n",
    "**Penambahan vektor**\n",
    "\n",
    "Penambahan vektor adalah operasi yang menggabungkan dua vektor menjadi satu vektor baru. Vektor baru tersebut memiliki komponen yang merupakan jumlah dari komponen masing-masing vektor yang ditambahkan.\n",
    "\n",
    "Misalnya, jika kita memiliki dua vektor $v = (1, 2, 3)$ dan $w = (4, 5, 6)$, maka penambahan vektor dari $v$ dan $w$ adalah vektor $u = v + w = (1 + 4, 2 + 5, 3 + 6) = (5, 7, 9)$.\n",
    "\n",
    "**Perkalian skalar dengan vektor**\n",
    "\n",
    "Perkalian skalar dengan vektor adalah operasi yang mengubah panjang dan arah vektor. Vektor baru tersebut memiliki komponen yang merupakan perkalian dari masing-masing komponen vektor dengan skalar.\n",
    "\n",
    "Misalnya, jika kita memiliki vektor $v = (1, 2, 3)$ dan skalar $\\alpha = 2$, maka perkalian skalar dari $\\alpha$ dan $v$ adalah vektor $x = \\alpha v = 2(1, 2, 3) = (2, 4, 6)$.\n",
    "\n",
    "**Dot Product**\n",
    "\n",
    "Hasil kali dot dari dua vektor adalah operasi yang mengukur kesamaan arah dari dua vektor tersebut. Hasil kali dot dari dua vektor dilambangkan dengan $\\cdot$.\n",
    "\n",
    "Misalnya, jika kita memiliki dua vektor $v = (1, 2, 3)$ dan $w = (4, 5, 6)$, maka hasil kali dot dari $v$ dan $w$ adalah $v \\cdot w = 1 \\cdot 4 + 2 \\cdot 5 + 3 \\cdot 6 = 32$.\n",
    "\n",
    "Hasil kali dot dari dua vektor dapat digunakan untuk menghitung sudut antara dua vektor. Sudut antara dua vektor $\\theta$ didefinisikan oleh rumus:\n",
    "\n",
    "$$\n",
    "v \\cdot w = \\Vert v \\Vert_{2} \\Vert w \\Vert_{2} \\cos{\\theta}\n",
    "$$\n",
    "\n",
    "Dimana $\\Vert v \\Vert_{2}$ dan $\\Vert w \\Vert_{2}$ adalah panjang dari vektor $v$ dan $w$ masing-masing.\n",
    "\n",
    "Jika hasil kali dot dari dua vektor adalah 0, maka kedua vektor tersebut dikatakan tegak lurus atau ortogonal.\n",
    "\n",
    "Berikut adalah beberapa contoh penggunaan penambahan vektor, perkalian skalar dengan vektor, dan hasil kali dot:\n",
    "\n",
    "* **Penambahan vektor dapat digunakan untuk menghitung perpindahan total dari suatu objek.** Misalnya, jika objek bergerak sejauh $v$ meter ke timur dan kemudian $w$ meter ke utara, maka perpindahan total objek tersebut adalah $v + w$.\n",
    "* **Perkalian skalar dengan vektor dapat digunakan untuk mengubah kecepatan dan percepatan dari suatu objek.** Misalnya, jika objek bergerak dengan kecepatan $v$ meter per detik dan kemudian kecepatannya dilipatgandakan oleh $\\alpha$, maka kecepatan baru objek tersebut adalah $\\alpha v$.\n",
    "* **Hasil kali dot dapat digunakan untuk menghitung proyeksi dari suatu vektor ke vektor lainnya.** Misalnya, jika kita memiliki dua vektor $v$ dan $w$, maka proyeksi dari vektor $v$ ke vektor $w$ adalah $\\frac{v \\cdot w}{\\Vert w \\Vert_{2}}w$."
   ]
  },
  {
   "cell_type": "markdown",
   "metadata": {},
   "source": [
    "**Contoh 1 : Perkalian Dot Vektor**\n",
    "$$\\displaystyle \\overrightarrow{V_1} \\cdot \\overrightarrow{V_2} = \\left[\n",
    "\\begin{array}{ccc}\n",
    "1 & -5 & 3 & 2 & 4\n",
    "\\end{array}\n",
    "\\right] \\cdot \\left[\n",
    "\\begin{array}{ccc}\n",
    "1 \\\\\n",
    "2 \\\\\n",
    "3 \\\\\n",
    "4 \\\\\n",
    "5\n",
    "\\end{array}\n",
    "\\right] \\\\\n",
    "\\\\\n",
    "= \\left(1\\cdot 1 \\right) + \\left(\\left(-5\\right) \\cdot 2 \\right) + \\left( 3\\cdot 3\\right) + 2 \\cdot 4 + 4 \\cdot 5 \\\\\n",
    "= 1 - 10 + 9 + 8 + 20 = 28\n",
    "$$\n"
   ]
  },
  {
   "cell_type": "code",
   "execution_count": 84,
   "metadata": {},
   "outputs": [
    {
     "name": "stdout",
     "output_type": "stream",
     "text": [
      "Hasil perkalian dot : [[28]]\n",
      "(1, 1)\n"
     ]
    }
   ],
   "source": [
    "dot = np.dot(vector_row, vector_column )\n",
    "print(\"Hasil perkalian dot :\",dot)\n",
    "print(dot.shape)"
   ]
  },
  {
   "cell_type": "markdown",
   "metadata": {},
   "source": [
    "**Contoh 2 : Carilah Sudut antara $v = [10, 9, 3]$ and $w = [2, 5, 12]$.**"
   ]
  },
  {
   "cell_type": "code",
   "execution_count": null,
   "metadata": {},
   "outputs": [
    {
     "ename": "",
     "evalue": "",
     "output_type": "error",
     "traceback": [
      "\u001b[1;31mRunning cells with 'c:\\Program Files\\Python311\\python.exe' requires the ipykernel package.\n",
      "\u001b[1;31mRun the following command to install 'ipykernel' into the Python environment. \n",
      "\u001b[1;31mCommand: '\"c:/Program Files/Python311/python.exe\" -m pip install ipykernel -U --user --force-reinstall'"
     ]
    }
   ],
   "source": [
    "from numpy import arccos, dot\n",
    "\n",
    "v = np.array([[10, 9, 3]])\n",
    "w = np.array([[2, 5, 12]])\n",
    "theta = \\\n",
    "    arccos(dot(v, w.T)/(norm(v)*norm(w)))\n",
    "print(theta)"
   ]
  },
  {
   "cell_type": "markdown",
   "metadata": {},
   "source": [
    "**Penjelasan**\n",
    "\n",
    "Hasil kali silang dari dua vektor, $v$ dan $w$, ditulis $v \\times w$. Hasil kali silang didefinisikan oleh $v \\times w = \\Vert v \\Vert_{2}\\Vert w \\Vert_{2}\\sin{(\\theta)} \\textit{n}$, di mana $\\theta$ adalah sudut antara $v$ dan $w$ (yang dapat dihitung dari hasil kali dot) dan **$n$** adalah vektor yang tegak lurus terhadap $v$ dan $w$ dengan panjang 1 (yaitu, panjangnya adalah satu). Interpretasi geometris dari hasil kali silang adalah vektor yang tegak lurus terhadap $v$ dan $w$ dengan panjang sama dengan luas yang diapit oleh jajaran genjang yang dibuat oleh kedua vektor tersebut.\n",
    "\n",
    "Misalnya, jika kita memiliki dua vektor $v = (1, 2, 3)$ dan $w = (4, 5, 6)$, maka hasil kali silang dari $v$ dan $w$ adalah $v \\times w = (-3, 6, -3)$."
   ]
  },
  {
   "cell_type": "markdown",
   "metadata": {},
   "source": [
    "---"
   ]
  },
  {
   "cell_type": "markdown",
   "metadata": {},
   "source": [
    "### Matrix"
   ]
  },
  {
   "cell_type": "markdown",
   "metadata": {},
   "source": [
    "Berikut adalah penjelasan yang lebih padat tentang materi yang Anda berikan:\n",
    "\n",
    "**Kemandirian linear**\n",
    "\n",
    "Seperangkat vektor dikatakan linier independen jika tidak ada vektor dalam himpunan tersebut yang dapat ditulis sebagai kombinasi linear dari vektor-vektor lainnya.\n",
    "\n",
    "Contoh: Vektor $v = [1, 1, 0]$, $w = [1, 0, 0]$, dan $u = [0, 0, 1]$ adalah linier independen karena tidak ada vektor dalam himpunan tersebut yang dapat ditulis sebagai kombinasi linear dari vektor-vektor lainnya.\n",
    "\n",
    "**Matriks**\n",
    "\n",
    "Matriks adalah tabel persegi panjang angka yang terdiri dari $m$ baris dan $n$ kolom. Normal matriks dapat dianggap sebagai jenis khusus dari norma vektor, jika kita memperlakukan elemen $m \\times n$ dari $M$ sebagai elemen dari vektor $mn$ dimensi, maka norma-p dari vektor ini dapat ditulis sebagai:\n",
    "\n",
    "$$\\Vert M \\Vert_{p} = \\sqrt[p]{(\\sum_i^m \\sum_j^n |a_{ij}|^p)}$$\n",
    "\n",
    "Anda dapat menghitung norma matriks menggunakan fungsi `norm` yang sama di `Numpy` seperti untuk vektor.\n",
    "\n",
    "**Penjumlahan dan perkalian skalar matriks**\n",
    "\n",
    "Penjumlahan dan perkalian skalar matriks bekerja dengan cara yang sama seperti untuk vektor. Namun, **perkalian matriks** antara dua matriks, $P$ dan $Q$, didefinisikan ketika $P$ adalah matriks ${m} \\times {p}$ dan $Q$ adalah matriks ${p} \\times {n}$. Hasil dari $M = PQ$ adalah matriks $M$ yang berukuran $m \\times n$. Dimensi dengan ukuran $p$ disebut **dimensi matriks bagian dalam**, dan dimensi matriks bagian dalam harus cocok (yaitu, jumlah kolom di $P$ dan jumlah baris di $Q$ harus sama) agar perkalian matriks didefinisikan. Dimensi $m$ dan $n$ disebut **dimensi matriks bagian luar**. Secara formal, jika $P$ adalah ${m} \\times {p}$ dan Q adalah ${p} \\times {n}$, maka $M = PQ$ didefinisikan sebagai\n",
    "\n",
    "$$\n",
    "M_{ij} = \\sum_{k=1}^p P_{ik}Q_{kj}\n",
    "$$\n",
    "\n",
    "Produk dari dua matriks $P$ dan $Q$ dalam Python dicapai dengan menggunakan metode `dot` di Numpy.\n",
    "\n",
    "**Transpos matriks**\n",
    "\n",
    "Transpos matriks adalah pembalikan barisnya dengan kolomnya. Transpos dilambangkan dengan superskrip, $T$, seperti $M^T$ adalah transpos dari matriks $M$. Di Python, metode **T** untuk array Numpy digunakan untuk mendapatkan transpos. Misalnya, jika $M$ adalah matriks, maka $M.T$ adalah transposnya.\n",
    "\n",
    "**Contoh**\n",
    "\n",
    "Diketahui matriks Python $P = [[1, 7], [2, 3], [5, 0]]$ dan $Q = [[2, 6, 3, 1], [1, 2, 3, 4]]$. Hitung produk matriks dari $P$ dan $Q$. Tunjukkan bahwa produk dari $Q$ dan $P$ akan menghasilkan Error."
   ]
  },
  {
   "cell_type": "code",
   "execution_count": 1,
   "metadata": {},
   "outputs": [
    {
     "ename": "NameError",
     "evalue": "name 'np' is not defined",
     "output_type": "error",
     "traceback": [
      "\u001b[1;31m---------------------------------------------------------------------------\u001b[0m",
      "\u001b[1;31mNameError\u001b[0m                                 Traceback (most recent call last)",
      "\u001b[1;32mc:\\Users\\maxihafiann\\Downloads\\Prakfiskom-4.ipynb Cell 17\u001b[0m line \u001b[0;36m1\n\u001b[1;32m----> <a href='vscode-notebook-cell:/c%3A/Users/maxihafiann/Downloads/Prakfiskom-4.ipynb#X22sZmlsZQ%3D%3D?line=0'>1</a>\u001b[0m P \u001b[39m=\u001b[39m np\u001b[39m.\u001b[39marray([[\u001b[39m1\u001b[39m, \u001b[39m7\u001b[39m], [\u001b[39m2\u001b[39m, \u001b[39m3\u001b[39m], [\u001b[39m5\u001b[39m, \u001b[39m0\u001b[39m]])\n\u001b[0;32m      <a href='vscode-notebook-cell:/c%3A/Users/maxihafiann/Downloads/Prakfiskom-4.ipynb#X22sZmlsZQ%3D%3D?line=1'>2</a>\u001b[0m Q \u001b[39m=\u001b[39m np\u001b[39m.\u001b[39marray([[\u001b[39m2\u001b[39m, \u001b[39m6\u001b[39m, \u001b[39m3\u001b[39m, \u001b[39m1\u001b[39m], [\u001b[39m1\u001b[39m, \u001b[39m2\u001b[39m, \u001b[39m3\u001b[39m, \u001b[39m4\u001b[39m]])\n\u001b[0;32m      <a href='vscode-notebook-cell:/c%3A/Users/maxihafiann/Downloads/Prakfiskom-4.ipynb#X22sZmlsZQ%3D%3D?line=2'>3</a>\u001b[0m \u001b[39mprint\u001b[39m(\u001b[39m\"\u001b[39m\u001b[39mMatrix P = \u001b[39m\u001b[39m\\n\u001b[39;00m\u001b[39m\"\u001b[39m,P)\n",
      "\u001b[1;31mNameError\u001b[0m: name 'np' is not defined"
     ]
    }
   ],
   "source": [
    "P = np.array([[1, 7], [2, 3], [5, 0]])\n",
    "Q = np.array([[2, 6, 3, 1], [1, 2, 3, 4]])\n",
    "print(\"Matrix P = \\n\",P)\n",
    "print(\"Matrix Q = \\n\",Q)\n",
    "print()\n",
    "\n",
    "t = np.dot(P, Q)\n",
    "print(t)\n",
    "\n",
    "try:\n",
    "    s = np.dot(Q,P)\n",
    "    print(t)\n",
    "except ValueError as ve:\n",
    "    print(\"-\"*80)\n",
    "    print(\"ValueError : \", ve)\n"
   ]
  },
  {
   "cell_type": "markdown",
   "metadata": {},
   "source": [
    "### Determinan Matrix"
   ]
  },
  {
   "cell_type": "markdown",
   "metadata": {},
   "source": [
    "**Matriks persegi** adalah matriks yang memiliki jumlah baris dan kolom yang sama. **Determinan** adalah sifat penting dari matriks persegi. Determinan dilambangkan dengan $det(M)$, baik dalam matematika maupun dalam paket `linalg` Numpy, terkadang juga dilambangkan sebagai $|M|$.\n",
    "\n",
    "Berikut adalah beberapa contoh penggunaan determinan:\n",
    "\n",
    "* **Menghitung volume objek:** Determinan dapat digunakan untuk menghitung volume objek geometris, seperti tetrahedron, kuboid, dan prisma.\n",
    "* **Menghitung invers matriks:** Determinan digunakan untuk menghitung invers matriks. Invers matriks adalah matriks yang dikalikan dengan matriks aslinya akan menghasilkan matriks identitas.\n",
    "* **Menentukan apakah suatu himpunan vektor linier independen:** Determinan dapat digunakan untuk menentukan apakah suatu himpunan vektor linier independen. Himpunan vektor linier independen jika dan hanya jika determinannya tidak sama dengan nol.\n",
    "\n",
    "Untuk matriks $2 \\times 2$, determinannya dihitung sebagai berikut:\n",
    "\n",
    "$$\n",
    "|M| = \\begin{bmatrix}\n",
    "a & b \\\\\n",
    "c & d\\\\\n",
    "\\end{bmatrix} = ad - bc$$\n",
    "\n",
    "Demikian pula, untuk matriks $3 \\times 3$, determinannya dihitung sebagai berikut:\n",
    "\n",
    "$$\n",
    "\\begin{eqnarray*}\n",
    "|M| = \\begin{bmatrix}\n",
    "a & b & c \\\\\n",
    "d & e & f \\\\\n",
    "g & h & i \\\\\n",
    "\\end{bmatrix} & = & a\\begin{bmatrix}\n",
    "\\Box &\\Box  &\\Box  \\\\\n",
    "\\Box & e & f \\\\\n",
    "\\Box & h & i \\\\\n",
    "\\end{bmatrix} - b\\begin{bmatrix}\n",
    "\\Box &\\Box  &\\Box  \\\\\n",
    "d & \\Box & f \\\\\n",
    "g & \\Box & i \\\\\n",
    "\\end{bmatrix}+c\\begin{bmatrix}\n",
    "\\Box &\\Box  &\\Box  \\\\\n",
    "d & e & \\Box \\\\\n",
    "g & h & \\Box \\\\\n",
    "\\end{bmatrix} \\\\\n",
    "&&\\\\\n",
    "& = & a\\begin{bmatrix}\n",
    "e & f \\\\\n",
    "h & i \\\\\n",
    "\\end{bmatrix} - b\\begin{bmatrix}\n",
    "d & f \\\\\n",
    "g & i \\\\\n",
    "\\end{bmatrix}+c\\begin{bmatrix}\n",
    "d & e \\\\\n",
    "g & h \\\\\n",
    "\\end{bmatrix} \\\\ \n",
    "&&\\\\\n",
    "& = & aei + bfg + cdh - ceg - bdi - afh\n",
    "\\end{eqnarray*}$$\n",
    "\n",
    "Kita dapat menggunakan pendekatan yang sama untuk menghitung determinan untuk matriks dengan dimensi lebih tinggi, tetapi jauh lebih mudah untuk menghitung menggunakan Python. Kita akan melihat contoh di bawah ini tentang cara menghitung determinan di Python.\n",
    "\n",
    "**Matriks identitas** adalah matriks persegi dengan angka satu pada diagonal dan angka nol di tempat lain. Matriks identitas biasanya dilambangkan dengan $I$, dan serupa dengan identitas bilangan real, 1. Artinya, mengalikan matriks apa pun dengan $I$ (dengan ukuran yang kompatibel) akan menghasilkan matriks yang sama.\n",
    "\n",
    "Berikut adalah contoh menghitung determinan matriks dalam Python:"
   ]
  },
  {
   "cell_type": "code",
   "execution_count": 87,
   "metadata": {},
   "outputs": [
    {
     "name": "stdout",
     "output_type": "stream",
     "text": [
      "-2.0000000000000004\n"
     ]
    }
   ],
   "source": [
    "import numpy as np\n",
    "\n",
    "# Membuat matriks 2x2\n",
    "M = np.array([[1, 2], [3, 4]])\n",
    "\n",
    "# Menghitung determinan matriks\n",
    "determinant = np.linalg.det(M)\n",
    "\n",
    "print(determinant)"
   ]
  },
  {
   "cell_type": "markdown",
   "metadata": {},
   "source": [
    "**Contoh**\n",
    "\n",
    "Carilah nilai Determinan dari Matrix $M = [[0, 2, 1, 3], [3, 2, 8, 1], [1, 0, 0, 3], [0, 3, 2, 1]]$. \\\\\n",
    "\n",
    "Buktikan bahwa perkalian Matrix $M\\cdot I$ menghasilkan Matrix $M$"
   ]
  },
  {
   "cell_type": "code",
   "execution_count": 88,
   "metadata": {},
   "outputs": [
    {
     "name": "stdout",
     "output_type": "stream",
     "text": [
      "M:\n",
      " [[0 2 1 3]\n",
      " [3 2 8 1]\n",
      " [1 0 0 3]\n",
      " [0 3 2 1]]\n",
      "Determinant: -38.0\n",
      "I:\n",
      " [[1. 0. 0. 0.]\n",
      " [0. 1. 0. 0.]\n",
      " [0. 0. 1. 0.]\n",
      " [0. 0. 0. 1.]]\n",
      "M*I:\n",
      " [[0. 2. 1. 3.]\n",
      " [3. 2. 8. 1.]\n",
      " [1. 0. 0. 3.]\n",
      " [0. 3. 2. 1.]]\n"
     ]
    }
   ],
   "source": [
    "from numpy.linalg import det\n",
    "\n",
    "M = np.array([[0,2,1,3], \n",
    "             [3,2,8,1], \n",
    "             [1,0,0,3],\n",
    "             [0,3,2,1]])\n",
    "print('M:\\n', M)\n",
    "\n",
    "print('Determinant: %.1f'%det(M))\n",
    "I = np.eye(4)\n",
    "print('I:\\n', I)\n",
    "print('M*I:\\n', np.dot(M, I))"
   ]
  },
  {
   "cell_type": "markdown",
   "metadata": {},
   "source": [
    "### Inverse Matrix"
   ]
  },
  {
   "cell_type": "markdown",
   "metadata": {},
   "source": [
    "**Invers** dari suatu matriks persegi $M$ adalah matriks dengan ukuran yang sama, $N$, sehingga $M \\cdot N = I$. Invers dari suatu matriks serupa dengan invers bilangan real. Misalnya, invers dari 3 adalah $\\frac{1}{3}$ karena $(3)(\\frac{1}{3}) = 1$. Suatu matriks dikatakan **inversibel** jika memiliki invers. Invers dari suatu matriks adalah unik; yaitu, untuk suatu matriks inversibel, hanya ada satu invers untuk matriks tersebut. Jika $M$ adalah matriks persegi, inversnya dilambangkan dengan $M^{-1}$ dalam matematika, dan dapat dihitung dalam Python menggunakan fungsi *inv* dari paket *linalg* Numpy.\n",
    "\n",
    "Untuk matriks $2 \\times 2$, solusi analitik dari invers matriks adalah:\n",
    "\n",
    "$$\n",
    "M^{-1} = \\begin{bmatrix}\n",
    "a & b \\\\\n",
    "c & d\\\\\n",
    "\\end{bmatrix}^{-1} = \\frac{1}{|M|}\\begin{bmatrix}\n",
    "d & -b \\\\\n",
    "-c & a\\\\\n",
    "\\end{bmatrix}$$\n",
    "\n",
    "Perhitungan invers matriks untuk solusi analitik menjadi rumit dengan meningkatnya dimensi matriks, ada banyak metode lain yang dapat membuat segalanya lebih mudah, seperti eliminasi Gauss, metode Newton, Dekomposisi Eigen, dan sebagainya. Kami akan memperkenalkan beberapa metode ini setelah kami mempelajari cara memecahkan sistem persamaan linier, karena prosesnya pada dasarnya sama.\n",
    "\n",
    "Ingatlah bahwa 0 tidak memiliki invers untuk perkalian dalam pengaturan bilangan real. Demikian pula, ada matriks yang tidak memiliki invers. Matriks-matriks ini disebut **singular**. Matriks yang memiliki invers disebut **nonsingular**.\n",
    "\n",
    "Salah satu cara untuk menentukan apakah suatu matriks singular adalah dengan menghitung determinannya. Jika determinannya 0, maka matriks tersebut singular; jika tidak, matriks tersebut nonsingular.\n",
    "\n",
    "**TRY IT!** Matriks $M$ (pada contoh sebelumnya) memiliki determinan yang bukan nol. Hitung invers dari $M$. Tunjukkan bahwa matriks $P = [[0, 1, 0], [0, 0, 0], [1, 0, 1]]$ memiliki nilai determinan 0 dan oleh karena itu tidak memiliki invers."
   ]
  },
  {
   "cell_type": "code",
   "execution_count": 89,
   "metadata": {},
   "outputs": [
    {
     "name": "stdout",
     "output_type": "stream",
     "text": [
      "[[-2.   1. ]\n",
      " [ 1.5 -0.5]]\n"
     ]
    }
   ],
   "source": [
    "import numpy as np\n",
    "\n",
    "# Membuat matriks 2x2\n",
    "M = np.array([[1, 2], [3, 4]])\n",
    "\n",
    "# Menghitung invers matriks\n",
    "inverse_of_M = np.linalg.inv(M)\n",
    "\n",
    "print(inverse_of_M)"
   ]
  },
  {
   "cell_type": "code",
   "execution_count": 90,
   "metadata": {},
   "outputs": [
    {
     "name": "stdout",
     "output_type": "stream",
     "text": [
      "0.0\n"
     ]
    }
   ],
   "source": [
    "# Membuat matriks 3x3\n",
    "P = np.array([[0, 1, 0], [0, 0, 0], [1, 0, 1]])\n",
    "\n",
    "# Menghitung determinan matriks\n",
    "determinant_of_P = np.linalg.det(P)\n",
    "\n",
    "print(determinant_of_P)"
   ]
  },
  {
   "cell_type": "markdown",
   "metadata": {},
   "source": [
    "Karena determinan dari matriks $P$ adalah 0, maka matriks $P$ adalah singular dan tidak memiliki invers."
   ]
  },
  {
   "cell_type": "markdown",
   "metadata": {},
   "source": [
    "### Condition Number, Rank, Augmented Matrix\n"
   ]
  },
  {
   "cell_type": "markdown",
   "metadata": {},
   "source": [
    "**Matriks yang hampir singular** (yaitu, determinannya mendekati 0) disebut **berkondisi buruk**. Meskipun matriks berkondisi buruk memiliki invers, mereka bermasalah secara numerik dengan cara yang sama seperti membagi angka dengan angka yang sangat, sangat kecil bermasalah. Artinya, dapat menghasilkan perhitungan yang menghasilkan overflow, underflow, atau angka yang cukup kecil untuk menghasilkan kesalahan pembulatan yang signifikan (Jika Anda lupa konsep-konsep ini, segarkan diri Anda dengan materi di bab 9). **Angka kondisi** adalah ukuran seberapa buruk kondisi suatu matriks, dan dapat dihitung menggunakan fungsi *cond* Numpy dari *linalg*. Semakin tinggi angka kondisi, semakin dekat matriks dengan singular.\n",
    "\n",
    "**Pangkat** dari matriks ${m} \\times {n}$ $A$ adalah jumlah kolom atau baris linier independen dari $A$, dan dilambangkan dengan rank($A$). Dapat ditunjukkan bahwa jumlah baris linier independen selalu sama dengan jumlah kolom linier independen untuk matriks apa pun. Matriks disebut **pangkat penuh** jika rank $(A)=\\min(m,n)$. Matriks, $A$, juga pangkat penuh jika semua kolomnya linier independen. **Matriks teraugmentasi** adalah matriks, $A$, yang digabungkan dengan vektor, $y$, dan ditulis $[A,y]$. Ini biasanya dibaca \"$A$ teraugmentasi dengan $y$.\" Anda dapat menggunakan *np.concatenate* untuk menggabungkan keduanya. Jika $rank([A,y]) = {rank}(A) + 1$, maka vektor, $y$, adalah informasi \"baru\". Artinya, tidak dapat dibuat sebagai kombinasi linier dari kolom-kolom di $A$. Pangkat adalah sifat penting dari matriks karena hubungannya dengan solusi persamaan linier, yang dibahas di bagian terakhir bab ini.\n",
    "\n",
    "Berikut adalah beberapa contoh penggunaan pangkat matriks:\n",
    "\n",
    "* **Menentukan apakah suatu sistem persamaan linier memiliki solusi:** Suatu sistem persamaan linier memiliki solusi jika dan hanya jika pangkat matriks koefisiennya sama dengan pangkat matriks teraugmentasinya.\n",
    "* **Menentukan apakah suatu himpunan vektor linier independen:** Suatu himpunan vektor linier independen jika dan hanya jika pangkat matriks yang dibentuk oleh vektor-vektor tersebut sama dengan jumlah vektor-vektor tersebut.\n",
    "* **Menghitung dimensi ruang nol suatu matriks:** Dimensi ruang nol suatu matriks adalah selisih antara jumlah kolom matriks dan pangkat matriks tersebut."
   ]
  },
  {
   "cell_type": "markdown",
   "metadata": {},
   "source": [
    "**Contoh**\n",
    "\n",
    "Carilah conditon number dan rank dari Matrix $A = [[1, 1, 0], [0, 1, 0], [1, 0, 1]]$.\n",
    "\n",
    "Jika $y = [[1], [2], [1]]$, Carilah augmented matrix [A, y]. "
   ]
  },
  {
   "cell_type": "code",
   "execution_count": 8,
   "metadata": {},
   "outputs": [
    {
     "ename": "NameError",
     "evalue": "name 'np' is not defined",
     "output_type": "error",
     "traceback": [
      "\u001b[1;31m---------------------------------------------------------------------------\u001b[0m",
      "\u001b[1;31mNameError\u001b[0m                                 Traceback (most recent call last)",
      "\u001b[1;32mc:\\Users\\maxihafiann\\Downloads\\Prakfiskom-4 Paundra.ipynb Cell 31\u001b[0m line \u001b[0;36m4\n\u001b[0;32m      <a href='vscode-notebook-cell:/c%3A/Users/maxihafiann/Downloads/Prakfiskom-4%20Paundra.ipynb#X42sZmlsZQ%3D%3D?line=0'>1</a>\u001b[0m \u001b[39mfrom\u001b[39;00m \u001b[39mnumpy\u001b[39;00m\u001b[39m.\u001b[39;00m\u001b[39mlinalg\u001b[39;00m \u001b[39mimport\u001b[39;00m \\\n\u001b[0;32m      <a href='vscode-notebook-cell:/c%3A/Users/maxihafiann/Downloads/Prakfiskom-4%20Paundra.ipynb#X42sZmlsZQ%3D%3D?line=1'>2</a>\u001b[0m              cond, matrix_rank\n\u001b[1;32m----> <a href='vscode-notebook-cell:/c%3A/Users/maxihafiann/Downloads/Prakfiskom-4%20Paundra.ipynb#X42sZmlsZQ%3D%3D?line=3'>4</a>\u001b[0m A \u001b[39m=\u001b[39m np\u001b[39m.\u001b[39marray([[\u001b[39m1\u001b[39m,\u001b[39m1\u001b[39m,\u001b[39m0\u001b[39m],\n\u001b[0;32m      <a href='vscode-notebook-cell:/c%3A/Users/maxihafiann/Downloads/Prakfiskom-4%20Paundra.ipynb#X42sZmlsZQ%3D%3D?line=4'>5</a>\u001b[0m               [\u001b[39m0\u001b[39m,\u001b[39m1\u001b[39m,\u001b[39m0\u001b[39m],\n\u001b[0;32m      <a href='vscode-notebook-cell:/c%3A/Users/maxihafiann/Downloads/Prakfiskom-4%20Paundra.ipynb#X42sZmlsZQ%3D%3D?line=5'>6</a>\u001b[0m               [\u001b[39m1\u001b[39m,\u001b[39m0\u001b[39m,\u001b[39m1\u001b[39m]])\n\u001b[0;32m      <a href='vscode-notebook-cell:/c%3A/Users/maxihafiann/Downloads/Prakfiskom-4%20Paundra.ipynb#X42sZmlsZQ%3D%3D?line=7'>8</a>\u001b[0m \u001b[39mprint\u001b[39m(\u001b[39m'\u001b[39m\u001b[39mCondition number:\u001b[39m\u001b[39m\\n\u001b[39;00m\u001b[39m'\u001b[39m, cond(A))\n\u001b[0;32m      <a href='vscode-notebook-cell:/c%3A/Users/maxihafiann/Downloads/Prakfiskom-4%20Paundra.ipynb#X42sZmlsZQ%3D%3D?line=8'>9</a>\u001b[0m \u001b[39mprint\u001b[39m(\u001b[39m'\u001b[39m\u001b[39mRank:\u001b[39m\u001b[39m\\n\u001b[39;00m\u001b[39m'\u001b[39m, matrix_rank(A))\n",
      "\u001b[1;31mNameError\u001b[0m: name 'np' is not defined"
     ]
    }
   ],
   "source": [
    "from numpy.linalg import \\\n",
    "             cond, matrix_rank\n",
    "\n",
    "A = np.array([[1,1,0],\n",
    "              [0,1,0],\n",
    "              [1,0,1]])\n",
    "\n",
    "print('Condition number:\\n', cond(A))\n",
    "print('Rank:\\n', matrix_rank(A))\n",
    "y = np.array([[1], [2], [1]])\n",
    "A_y = np.concatenate((A, y), axis = 1)\n",
    "print('Augmented matrix:\\n', A_y)"
   ]
  },
  {
   "cell_type": "markdown",
   "metadata": {},
   "source": [
    "---"
   ]
  },
  {
   "cell_type": "markdown",
   "metadata": {},
   "source": [
    "## Tugas\n",
    "- Selesaikan soal-soal berikut dengan membuat program masing-masing soal sesuai yang ditanyakan.\n",
    "- Kerjakan dengan membuat cell code baru di bawah setiap soal\n",
    "- Upload file .ipynb yang telah berisi jawaban lengkap pada Akun Github dengan membuat Repository baru\n"
   ]
  },
  {
   "cell_type": "markdown",
   "metadata": {},
   "source": [
    "1. Tentukan determinan matriks berikut:\n",
    "\n",
    "$$\\displaystyle A = \\left( \\begin{array}{cc}\n",
    "1 & 2 \\\\\n",
    "3 & 4\n",
    "\\end{array} \n",
    "\\right)\n",
    "$$"
   ]
  },
  {
   "cell_type": "code",
   "execution_count": 7,
   "metadata": {},
   "outputs": [
    {
     "name": "stdout",
     "output_type": "stream",
     "text": [
      "Determinant: -2.0\n"
     ]
    }
   ],
   "source": [
    "import numpy as np \n",
    "from numpy.linalg import det\n",
    "A = np.array([[1, 2,], [3, 4]])\n",
    "print('Determinant: %.1f'%det(A))"
   ]
  },
  {
   "cell_type": "markdown",
   "metadata": {},
   "source": [
    "2. Tentukan invers Matriks Berikut:\n",
    "\n",
    "$$\\displaystyle B = \\left( \\begin{array}{cc}\n",
    "10 & -22 \\\\\n",
    "3 & 45\n",
    "\\end{array} \n",
    "\\right)\n",
    "$$"
   ]
  },
  {
   "cell_type": "code",
   "execution_count": 8,
   "metadata": {},
   "outputs": [
    {
     "name": "stdout",
     "output_type": "stream",
     "text": [
      "[[ 0.0872093   0.04263566]\n",
      " [-0.00581395  0.01937984]]\n"
     ]
    }
   ],
   "source": [
    "import numpy as np\n",
    "\n",
    "# Membuat matriks 2x2\n",
    "B = np.array([[10, -22], [3, 45]])\n",
    "\n",
    "# Menghitung invers matriks\n",
    "inverse_of_B = np.linalg.inv(B)\n",
    "\n",
    "print(inverse_of_B)"
   ]
  },
  {
   "cell_type": "markdown",
   "metadata": {},
   "source": [
    "3. Tentukan apakah matriks berikut berkondisi buruk:\n",
    "$$\\displaystyle C = \\left( \\begin{array}{cc}\n",
    "1 & 10^{-10} \\\\\n",
    "10^{-10} & 1\n",
    "\\end{array} \n",
    "\\right)\n",
    "$$"
   ]
  },
  {
   "cell_type": "code",
   "execution_count": 9,
   "metadata": {},
   "outputs": [
    {
     "name": "stdout",
     "output_type": "stream",
     "text": [
      "Condition number:\n",
      " 1.6666666666666667\n",
      "Rank:\n",
      " 2\n"
     ]
    }
   ],
   "source": [
    "import numpy as np\n",
    "from numpy.linalg import \\\n",
    "             cond, matrix_rank\n",
    "\n",
    "C = np.array([[1,10^-10],\n",
    "              [10^-10,1],])\n",
    "\n",
    "print('Condition number:\\n', cond(C))\n",
    "print('Rank:\\n', matrix_rank(C))"
   ]
  },
  {
   "cell_type": "markdown",
   "metadata": {},
   "source": [
    "4. Tentukan apakah sistem persamaan linier berikut memiliki solusi. Jika ada, bagaimana solusinya?\n",
    "\n",
    "$$\\displaystyle A = \\left( \\begin{array}{cc}\n",
    "1 & 2 \\\\\n",
    "3 & 4\n",
    "\\end{array} \n",
    "\\right) $$\n",
    "\n",
    "\n",
    "$$\\displaystyle\n",
    "b =  \\left( \\begin{array}{cc}\n",
    "5 & 6 \n",
    "\\end{array} \n",
    "\\right) \\\\\n",
    "$$"
   ]
  },
  {
   "cell_type": "code",
   "execution_count": 21,
   "metadata": {},
   "outputs": [
    {
     "name": "stdout",
     "output_type": "stream",
     "text": [
      "Augmented matrix:\n",
      " [[1 2 5]\n",
      " [3 4 6]]\n"
     ]
    }
   ],
   "source": [
    "import numpy as np\n",
    "            \n",
    "\n",
    "A = np.array([[1,2], [3,4]])\n",
    "\n",
    "b = np.array([[5], [6]])\n",
    "A_b = np.concatenate((A, b), axis = 1)\n",
    "print('Augmented matrix:\\n', A_b)"
   ]
  },
  {
   "cell_type": "markdown",
   "metadata": {},
   "source": [
    "5. Tentukan dimensi ruang nol matriks berikut:\n",
    "\n",
    "\n",
    "$$\\displaystyle\n",
    "C =\n",
    "\\left(\n",
    "\\begin{array}{ccc}\n",
    "1 & 2 & 3 \\\\\n",
    "4 & 5 & 6 \\\\\n",
    "7 & 8 & 9\n",
    "\\end{array}\n",
    "\\right)\n",
    "$$"
   ]
  },
  {
   "cell_type": "code",
   "execution_count": null,
   "metadata": {},
   "outputs": [],
   "source": []
  }
 ],
 "metadata": {
  "kernelspec": {
   "display_name": "Python 3",
   "language": "python",
   "name": "python3"
  },
  "language_info": {
   "codemirror_mode": {
    "name": "ipython",
    "version": 3
   },
   "file_extension": ".py",
   "mimetype": "text/x-python",
   "name": "python",
   "nbconvert_exporter": "python",
   "pygments_lexer": "ipython3",
   "version": "3.11.0"
  },
  "orig_nbformat": 4
 },
 "nbformat": 4,
 "nbformat_minor": 2
}
